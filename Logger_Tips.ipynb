{
 "cells": [
  {
   "cell_type": "code",
   "execution_count": 1,
   "metadata": {},
   "outputs": [],
   "source": [
    "import logging\n",
    " \n",
    "# можно добавить filemode=\"w\" для перезаписи файла\n",
    "# Существует пять уровней логирования (в порядке возрастания): DEBUG,\n",
    "# INFO, WARNING, ERROR и CRITICAL\n",
    "logging.basicConfig(filename=\"sample.log\", level=logging.DEBUG, filemode=\"w\")\n",
    "\n",
    "logging.debug(\"This is a debug message\") # не выводится так как установлен уровень INFO\n",
    "logging.info(\"Informational message\")\n",
    "logging.error(\"An error has happened!\")"
   ]
  }
 ],
 "metadata": {
  "kernelspec": {
   "display_name": "Python 3",
   "language": "python",
   "name": "python3"
  },
  "language_info": {
   "codemirror_mode": {
    "name": "ipython",
    "version": 3
   },
   "file_extension": ".py",
   "mimetype": "text/x-python",
   "name": "python",
   "nbconvert_exporter": "python",
   "pygments_lexer": "ipython3",
   "version": "3.6.1"
  }
 },
 "nbformat": 4,
 "nbformat_minor": 2
}
