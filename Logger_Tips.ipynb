{
 "cells": [
  {
   "cell_type": "code",
   "execution_count": 1,
   "metadata": {},
   "outputs": [],
   "source": [
    "import logging\n",
    " \n",
    "# можно добавить filemode=\"w\" для перезаписи файла\n",
    "# Существует пять уровней логирования (в порядке возрастания): DEBUG,\n",
    "# INFO, WARNING, ERROR и CRITICAL\n",
    "logging.basicConfig(filename=\"sample.log\", level=logging.INFO)\n",
    "\n",
    "logging.debug(\"This is a debug message\") # не выводится так как установлен уровень INFO\n",
    "logging.info(\"Informational message\")\n",
    "logging.error(\"An error has happened!\")"
   ]
  },
  {
   "cell_type": "code",
   "execution_count": 2,
   "metadata": {},
   "outputs": [],
   "source": [
    "# Создание логгера с определенным именем\n",
    "logex = logging.getLogger(\"ex\")"
   ]
  },
  {
   "cell_type": "code",
   "execution_count": 3,
   "metadata": {},
   "outputs": [],
   "source": [
    "try:\n",
    "    raise RuntimeError\n",
    "except RuntimeError:\n",
    "    logex.exception(\"Error!\")"
   ]
  },
  {
   "cell_type": "code",
   "execution_count": 4,
   "metadata": {},
   "outputs": [],
   "source": [
    "# Настройка экземпляра logger\n",
    "import logging\n",
    "\n",
    "logger = logging.getLogger(\"exampleApp\")\n",
    "logger.setLevel(logging.INFO)\n",
    "fh = logging.FileHandler(filename=\"sample.log\")\n",
    "formatter = logging.Formatter('%(asctime)s - %(name)s - %(levelname)s - %(message)s')\n",
    "fh.setFormatter(formatter)\n",
    "logger.addHandler(fh)\n",
    "logger.info(\"Some Info\")\n",
    "logger.info(\"End of file\")"
   ]
  }
 ],
 "metadata": {
  "kernelspec": {
   "display_name": "Python 3",
   "language": "python",
   "name": "python3"
  },
  "language_info": {
   "codemirror_mode": {
    "name": "ipython",
    "version": 3
   },
   "file_extension": ".py",
   "mimetype": "text/x-python",
   "name": "python",
   "nbconvert_exporter": "python",
   "pygments_lexer": "ipython3",
   "version": "3.7.1rc1"
  }
 },
 "nbformat": 4,
 "nbformat_minor": 2
}
