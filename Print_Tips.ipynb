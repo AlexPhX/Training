{
 "cells": [
  {
   "cell_type": "heading",
   "metadata": {},
   "level": 1,
   "source": [
    "### Советы по выводу информации в Python"
   ]
  },
  {
   "cell_type": "code",
   "execution_count": 9,
   "metadata": {
    "scrolled": false
   },
   "outputs": [
    {
     "name": "stdout",
     "output_type": "stream",
     "text": [
      "result: 3\n"
     ]
    }
   ],
   "source": [
    "# Печать строки с числом\n",
    "print(\"result: \" + str(3))"
   ]
  },
  {
   "cell_type": "code",
   "execution_count": 3,
   "metadata": {},
   "outputs": [],
   "source": [
    "# Выводит через пробел\n",
    "print(\"результат:\", 2)\n",
    "# Выводит через определенный разделитель\n",
    "print(\"результат\", 2, sep = \": \")"
   ]
  },
  {
   "cell_type": "code",
   "execution_count": 4,
   "metadata": {
    "scrolled": false
   },
   "outputs": [],
   "source": [
    "# Использование % синтаксиса\n",
    "print(\"result: %d\" % 2)\n",
    "print(\"result: %d %.2f\" % (2, 2))\n",
    "print(\"%(string)s: %(number).2f\" % {\"string\": \"result\", \"number\": 2})"
   ]
  },
  {
   "cell_type": "code",
   "execution_count": 5,
   "metadata": {},
   "outputs": [
    {
     "name": "stdout",
     "output_type": "stream",
     "text": [
      "result: 2\n1 + 2 = 3\nЧисло ПИ: 3.141592654\n"
     ]
    }
   ],
   "source": [
    "# Использование метода format()\n",
    "print(\"result: {}\".format(2))\n",
    "print(\"{0} + {1} = {2}\".format(1, 2, 3))\n",
    "\n",
    "from math import pi\n",
    "print(\"{0} {1:.9f}\".format (\"Число ПИ:\", pi ))"
   ]
  },
  {
   "cell_type": "code",
   "execution_count": 6,
   "metadata": {
    "scrolled": false
   },
   "outputs": [
    {
     "name": "stdout",
     "output_type": "stream",
     "text": [
      "Число ПИ приблизительно равно: 3.1416, а 2 + 2 = 4\n"
     ]
    }
   ],
   "source": [
    "# Использование f-строк\n",
    "from math import pi\n",
    "result = 4\n",
    "text = \"Число ПИ приблизительно равно\"\n",
    "print(f\"{text}: {pi:.4f}, а 2 + 2 = {result:d}\")"
   ]
  },
  {
   "cell_type": "code",
   "execution_count": 7,
   "metadata": {
    "scrolled": true
   },
   "outputs": [
    {
     "name": "stdout",
     "output_type": "stream",
     "text": [
      "0,1,2,3,4\n0,1,2,3,4\n"
     ]
    }
   ],
   "source": [
    "# Вывод элементов списка через разделитель\n",
    "a = list(range(5))\n",
    "print(\",\".join(map(str,a)))\n",
    "print(*a, sep = \",\")"
   ]
  }
 ],
 "metadata": {
  "kernelspec": {
   "display_name": "Python 3",
   "language": "python",
   "name": "python3"
  },
  "language_info": {
   "codemirror_mode": {
    "name": "ipython",
    "version": 3
   },
   "file_extension": ".py",
   "mimetype": "text/x-python",
   "name": "python",
   "nbconvert_exporter": "python",
   "pygments_lexer": "ipython3",
   "version": "3.6.1"
  }
 },
 "nbformat": 4,
 "nbformat_minor": 2
}
